{
  "nbformat": 4,
  "nbformat_minor": 0,
  "metadata": {
    "colab": {
      "provenance": []
    },
    "kernelspec": {
      "name": "python3",
      "display_name": "Python 3"
    },
    "language_info": {
      "name": "python"
    }
  },
  "cells": [
    {
      "cell_type": "markdown",
      "source": [
        "***Python Basics Variables***\n",
        "\n",
        "\n",
        "\n",
        "---\n",
        "\n",
        "\n",
        "\n"
      ],
      "metadata": {
        "id": "cUGHsWOZk-P-"
      }
    },
    {
      "cell_type": "code",
      "execution_count": 7,
      "metadata": {
        "colab": {
          "base_uri": "https://localhost:8080/"
        },
        "id": "w2lYis0wdrRf",
        "outputId": "ef4b216c-8740-4176-b7c8-00d0e336792b"
      },
      "outputs": [
        {
          "output_type": "stream",
          "name": "stdout",
          "text": [
            "The value of x before sapping 555\n",
            "The value of x before sapping 60\n",
            "The value of x after sapping 60\n",
            "The value of x after sapping 555\n"
          ]
        }
      ],
      "source": [
        "#Declare two variables, `x` and `y`, and assign them integer values. Swap the\n",
        "#values of these variables without using any temporary variable.\n",
        "\n",
        "# dcalaring and intializing value of x\n",
        "x =  555\n",
        "y = 60\n",
        "\n",
        "print(\"The value of x before sapping\",x)\n",
        "print(\"The value of x before sapping\",y)\n",
        "\n",
        "# swpaing the value\n",
        "x,y = y,x\n",
        "\n",
        "print(\"The value of x after sapping\",x)\n",
        "print(\"The value of x after sapping\",y)"
      ]
    },
    {
      "cell_type": "code",
      "source": [
        "#Create a program that calculates the area of a rectangle. Take the length and width as inputs from the user and store them in variables. Calculate and display the area.\n",
        "\n",
        "#taking input length and width\n",
        "length = float(input(\"enter the lenth :\"))\n",
        "width = float(input(\"enter the float :\"))\n",
        "\n",
        "\n",
        "#calulate and print the area\n",
        "area = length*width\n",
        "print(\"the area of an rectangle is :\",area)"
      ],
      "metadata": {
        "colab": {
          "base_uri": "https://localhost:8080/"
        },
        "id": "PyvDE0urgAal",
        "outputId": "c79e7249-46fb-41a7-eb07-c1d103f2f220"
      },
      "execution_count": 2,
      "outputs": [
        {
          "output_type": "stream",
          "name": "stdout",
          "text": [
            "enter the lenth :22\n",
            "enter the float :24.5\n",
            "the area of an rectangle is : 539.0\n"
          ]
        }
      ]
    },
    {
      "cell_type": "code",
      "source": [
        "#Write a Python program that converts temperatures from Celsius to\n",
        "#Fahrenheit. Take the temperature in Celsius as input, store it in a variable,\n",
        "#convert it to Fahrenheit, and display the result.\n",
        "\n",
        "\n",
        "#taking user input in celsius\n",
        "celsius_temperature = float(input(\"enter  the temperature in celsius\"))\n",
        "fahrenheit_temperature = (celsius_temperature*9/5) -32 # converting it in fahrenheit\n",
        "\n",
        "#printing the temperute in fahrenheit\n",
        "print(f\"{celsius_temperature} is equal to {fahrenheit_temperature} in fahrenheit\" )\n",
        "\n"
      ],
      "metadata": {
        "colab": {
          "base_uri": "https://localhost:8080/"
        },
        "id": "FuUaStN4isiY",
        "outputId": "f8a1a77b-af34-4ba7-c3ed-d634bb65a27c"
      },
      "execution_count": 3,
      "outputs": [
        {
          "output_type": "stream",
          "name": "stdout",
          "text": [
            "enter  the temperature in celsius22\n",
            "22.0 is equal to 7.600000000000001 in fahrenheit\n"
          ]
        }
      ]
    },
    {
      "cell_type": "markdown",
      "source": [
        "*String Based Questions*\n",
        "\n",
        "---\n",
        "\n"
      ],
      "metadata": {
        "id": "ii_16IjZleE_"
      }
    },
    {
      "cell_type": "code",
      "source": [
        "#1. Write a Python program that takes a string as input and prints the length of the string.\n",
        "\n",
        "\n",
        "# taking user input as string\n",
        "string_variable = input(\"Enter the string \")\n",
        "\n",
        "#printing the string length\n",
        "print(\"string length is \",len(string_variable))"
      ],
      "metadata": {
        "colab": {
          "base_uri": "https://localhost:8080/"
        },
        "id": "fcdn_331lnxG",
        "outputId": "5878ad3f-0a69-4de3-9366-24acf99af62f"
      },
      "execution_count": 4,
      "outputs": [
        {
          "output_type": "stream",
          "name": "stdout",
          "text": [
            "Enter the string 22\n",
            "string length is  2\n"
          ]
        }
      ]
    },
    {
      "cell_type": "code",
      "source": [
        "# taking input from the user\n",
        "sentence = input(\"Enter a sentence: \")\n",
        "\n",
        "# Initialize a variable to count the vowels\n",
        "count = 0\n",
        "\n",
        "# Iterate through each character in the sentence\n",
        "for i in sentence:\n",
        "    # Convert the character to uppercase to handle both uppercase and lowercase vowels\n",
        "    i_upper = i.upper()\n",
        "\n",
        "    #  Check if the character is a  Uppercase vowel  (A, E, I, O, U)\n",
        "    if i_upper in \"AEIOU\":\n",
        "        # Step 6: If the character is a vowel, increment the vowel_count variable\n",
        "        count += 1\n",
        "\n",
        " #printing the number of value\n",
        "print(\"Number of vowels:\", count)"
      ],
      "metadata": {
        "colab": {
          "base_uri": "https://localhost:8080/"
        },
        "id": "9xp2FQtNobDS",
        "outputId": "78f21bba-507a-438a-a949-c49e0c07c343"
      },
      "execution_count": 18,
      "outputs": [
        {
          "output_type": "stream",
          "name": "stdout",
          "text": [
            "Enter a sentence: Jyotirmoy\n",
            "Number of vowels: 3\n"
          ]
        }
      ]
    },
    {
      "cell_type": "code",
      "source": [
        "#Given a string, reverse the order of characters using string slicing and print\n",
        "#the reversed string.\n",
        "\n",
        "Input_string = input(\"enter your string\")#taking your string input\n",
        "\n",
        "Reverse_string = Input_string[::-1]#reversing the string\n",
        "\n",
        "#printing the reverse string\n",
        "print(\"reversed string\",Reverse_string)"
      ],
      "metadata": {
        "colab": {
          "base_uri": "https://localhost:8080/"
        },
        "id": "6SN62-ypJ41U",
        "outputId": "e818cc34-c67c-4f98-ddf4-1c77b9543884"
      },
      "execution_count": 8,
      "outputs": [
        {
          "output_type": "stream",
          "name": "stdout",
          "text": [
            "enter your stringJyotirmoy Banerjee\n",
            "reversed string eejrenaB yomritoyJ\n"
          ]
        }
      ]
    },
    {
      "cell_type": "code",
      "source": [
        "#Write a program that takes a string as input and checks if it is a palindrome\n",
        "#(reads the same forwards and backwards).\n",
        "\n",
        "\n",
        "Input_string = input(\"enter your string\")#taking your string input\n",
        "\n",
        "Reverse_string = Input_string[::-1]#reversing the string\n",
        "\n",
        "if(Input_string == Reverse_string):#if input string is equal to reverse string then the string is pallindome\n",
        "  print(\"input string is pallindome\")\n",
        "else:\n",
        "  print(\"input string is not pallindome\")"
      ],
      "metadata": {
        "colab": {
          "base_uri": "https://localhost:8080/"
        },
        "id": "LckiMyF7LVPd",
        "outputId": "38fbe66f-931e-47a3-ca45-659c2d99077d"
      },
      "execution_count": 9,
      "outputs": [
        {
          "output_type": "stream",
          "name": "stdout",
          "text": [
            "enter your string12321\n",
            "input string is pallindome\n"
          ]
        }
      ]
    },
    {
      "cell_type": "code",
      "source": [
        "#Create a program that takes a string as input and removes all the spaces from\n",
        "#it. Print the modified string without spaces.\n",
        "\n",
        "input_string = input(\"enter your string\")\n",
        "#taking input from user\n",
        "\n",
        "withoutspace_string = \"\"\n",
        "#modified string\n",
        "\n",
        "\n",
        "#iteration though each caracter\n",
        "for i in input_string :\n",
        "  if i != \" \" : #if there is not any space then enter the value in withoutspace_string\n",
        "     withoutspace_string += i\n",
        "print(\"string without spaces is :\",withoutspace_string) #printing the string without spaces\n",
        "\n"
      ],
      "metadata": {
        "colab": {
          "base_uri": "https://localhost:8080/"
        },
        "id": "tw_ArY5NMDYG",
        "outputId": "626976cf-59d2-4605-fa45-0e01ecb3a6a0"
      },
      "execution_count": 15,
      "outputs": [
        {
          "output_type": "stream",
          "name": "stdout",
          "text": [
            "enter your stringJyotirmoy Banerjee\n",
            "string without spaces is : JyotirmoyBanerjee\n"
          ]
        }
      ]
    }
  ]
}